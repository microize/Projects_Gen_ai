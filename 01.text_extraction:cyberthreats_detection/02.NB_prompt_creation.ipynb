{
 "cells": [
  {
   "cell_type": "markdown",
   "metadata": {},
   "source": [
    "## Environment Setup"
   ]
  },
  {
   "cell_type": "code",
   "execution_count": 38,
   "metadata": {},
   "outputs": [],
   "source": [
    "# IMPORTING WARNINGS\n",
    "import warnings\n",
    "warnings.filterwarnings(\"ignore\")\n",
    "\n",
    "import re\n",
    "import pandas as pd\n",
    "import json\n",
    "import openai\n",
    "import random\n",
    "import time\n",
    "from tenacity import (retry, stop_after_attempt, wait_random_exponential)\n",
    "from langchain.output_parsers import ResponseSchema, StructuredOutputParser\n",
    "\n",
    "# SETTING DISPLAY OPTIONS FOR PANDAS DATAFRAMES\n",
    "pd.set_option('display.max_rows', None) \n",
    "pd.set_option('display.max_columns', None)\n",
    "pd.set_option('display.width', None)\n",
    "\n",
    "# DISABLING DEBUGGING MODE FOR THE LANGCHAIN FRAMEWORK\n",
    "import langchain\n",
    "langchain.debug = False"
   ]
  },
  {
   "cell_type": "code",
   "execution_count": 39,
   "metadata": {},
   "outputs": [],
   "source": [
    "# READING DATA\n",
    "df = pd.read_json(\"../01.input_files/datafinal.json\")\n",
    "\n",
    "# WRITING DATA\n",
    "df.to_csv('../01.input_files/datafinal_csv.csv',index=False)"
   ]
  },
  {
   "cell_type": "code",
   "execution_count": 40,
   "metadata": {},
   "outputs": [],
   "source": [
    "# OPEN API KEY\n",
    "openai.api_key = ''#ADD YOUR OPEN API KEY"
   ]
  },
  {
   "cell_type": "markdown",
   "metadata": {},
   "source": [
    "## Preprocessing"
   ]
  },
  {
   "cell_type": "code",
   "execution_count": 41,
   "metadata": {},
   "outputs": [],
   "source": [
    "def add_backslash(text):\n",
    "    special_chars = re.compile(r'([\\\"\\'/])')\n",
    "    return special_chars.sub(r'\\\\\\1', text)"
   ]
  },
  {
   "cell_type": "code",
   "execution_count": 42,
   "metadata": {},
   "outputs": [],
   "source": [
    "df['Text'] = df['Text'].apply(lambda x: add_backslash(x))\n",
    "df['Text'] = df['Text'].apply(lambda x: x.replace('\\n', '\\\\n').replace('\\t', '\\\\t'))"
   ]
  },
  {
   "cell_type": "code",
   "execution_count": 43,
   "metadata": {},
   "outputs": [],
   "source": [
    "filtered_df = df[df['CodeList']!=''].sample(50)"
   ]
  },
  {
   "cell_type": "code",
   "execution_count": 44,
   "metadata": {},
   "outputs": [
    {
     "data": {
      "text/plain": [
       "(50, 4)"
      ]
     },
     "execution_count": 44,
     "metadata": {},
     "output_type": "execute_result"
    }
   ],
   "source": [
    "filtered_df.shape"
   ]
  },
  {
   "cell_type": "markdown",
   "metadata": {},
   "source": [
    "## Prompt Testing"
   ]
  },
  {
   "cell_type": "code",
   "execution_count": 34,
   "metadata": {},
   "outputs": [],
   "source": [
    "@retry(wait=wait_random_exponential(min=60, max=65), stop=stop_after_attempt(6))\n",
    "def text_extraction(text_var):\n",
    "    prompt = \"\"\"\n",
    "    Extract the code and command from text delimited by <text> tag. Let's work this out in a step by step way to be sure we have the right answer.\n",
    "\tSTEP 1: Identify all special characters and program language specific keyword specified in the provided text.\n",
    "\tSTEP 2: Examine the words surrounding the special characters closely to determine the programming language and tools being referenced.\n",
    "    STEP 3: Extract all programming code and tool-specific commands that belong to the all programming languages and tools identified in STEP 2.if there are multiple codes and commands, separate them by a comma.\n",
    "    Format the response as a JSON object with the key 'code'. If no code is found, the 'code' key should contain an empty string. Don't output the programming language.\n",
    "    Keywords: code\n",
    "    text:<text> \n",
    "    \"\"\"+text_var+\"\"\"</text>\n",
    "    ````\n",
    "    The output should be a markdown code snippet formatted in the following schema, including the leading and trailing \"```json\" and \"json```\":\n",
    "    ```json\n",
    "    {\n",
    "    \"code\": \"executable programming code, tool specific command\"\n",
    "    }```\n",
    "    \"\"\"\n",
    "\n",
    "    response = openai.ChatCompletion.create(\n",
    "        model=\"gpt-3.5-turbo\",\n",
    "        messages=[{\"role\": \"user\", \"content\": prompt}],\n",
    "        temperature=0\n",
    "    )\n",
    "    time.sleep(1)\n",
    "    return response[\"choices\"][0][\"message\"][\"content\"]\n",
    "\n",
    "filtered_df['llm_response'] = filtered_df.apply(lambda row: text_extraction(row['Text']), axis=1)"
   ]
  },
  {
   "cell_type": "code",
   "execution_count": 35,
   "metadata": {},
   "outputs": [],
   "source": [
    "def text_extraction(text_var):\n",
    "    try:\n",
    "        CodeSchema = ResponseSchema(name=\"code\", description=\"executable programming code with comment, tool specific command\")\n",
    "        response_schemas = [CodeSchema]\n",
    "        output_parser = StructuredOutputParser.from_response_schemas(response_schemas)\n",
    "        chain_dict = output_parser.parse(text_var)\n",
    "        code_var = chain_dict.get('code')\n",
    "        return code_var\n",
    "    except:\n",
    "        return text_var"
   ]
  },
  {
   "cell_type": "code",
   "execution_count": 36,
   "metadata": {},
   "outputs": [],
   "source": [
    "filtered_df['code'] = filtered_df['llm_response'].apply(lambda x: text_extraction(x))"
   ]
  },
  {
   "cell_type": "code",
   "execution_count": 37,
   "metadata": {},
   "outputs": [],
   "source": [
    "filtered_df.to_csv('filtered_result_csv.csv',index=False)"
   ]
  },
  {
   "cell_type": "markdown",
   "metadata": {},
   "source": [
    "# Inference\n",
    "\n",
    "The prompt is doing what we expected it to do. It works best when there are no extra lines and when the entire prompt is in one piece. To make it work even better, we should make the ' and '' as part of the string itself by adding a backslash. The way the prompt is set up:\n",
    "\n",
    "When I used the Large Language Model (LLM) to find code, it didn't work very well. So, when I asked LLM to find the programming language and the related code, it worked well.\n",
    "To improve its performance even further, I instructed the LLM to locate special characters and keywords, and to consider the words around them for identifying the programming language and related code. This approach worked very well."
   ]
  }
 ],
 "metadata": {
  "kernelspec": {
   "display_name": "Python 3",
   "language": "python",
   "name": "python3"
  },
  "language_info": {
   "codemirror_mode": {
    "name": "ipython",
    "version": 3
   },
   "file_extension": ".py",
   "mimetype": "text/x-python",
   "name": "python",
   "nbconvert_exporter": "python",
   "pygments_lexer": "ipython3",
   "version": "3.11.6"
  }
 },
 "nbformat": 4,
 "nbformat_minor": 2
}
